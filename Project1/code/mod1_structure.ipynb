{
 "cells": [
  {
   "cell_type": "markdown",
   "metadata": {},
   "source": [
    "<h2 align = \"center\">Mod 1: Change the Network Structure</h2>"
   ]
  },
  {
   "cell_type": "markdown",
   "metadata": {},
   "source": [
    "Focus on hidden layers and the number of hidden layers."
   ]
  },
  {
   "cell_type": "code",
   "execution_count": 1,
   "metadata": {},
   "outputs": [],
   "source": [
    "import numpy as np\n",
    "import matplotlib.pyplot as plt\n",
    "from tqdm import tqdm\n",
    "\n",
    "import latte\n",
    "import latte.nn as nn\n",
    "import latte.optim as optim\n",
    "import latte.functional as F\n",
    "import latte.utils.data as data\n",
    "\n",
    "import lattevision as lv\n",
    "import lattevision.datasets as dsets\n",
    "import lattevision.transforms as T\n"
   ]
  },
  {
   "cell_type": "code",
   "execution_count": 2,
   "metadata": {},
   "outputs": [],
   "source": [
    "mnist_root = '../data/mnist'\n",
    "mnist_transform = T.Compose([T.ToTensor(), T.Normalize((0.1307,), (0.3081,))])\n",
    "\n",
    "mnist_train = dsets.MNIST(mnist_root, train=True, transform=mnist_transform)\n",
    "mnist_test = dsets.MNIST(mnist_root, train=False, transform=mnist_transform)\n",
    "\n",
    "train_batch_size = 128\n",
    "test_batch_size = 512\n",
    "\n",
    "train_loader = data.DataLoader(mnist_train, batch_size=train_batch_size, shuffle=True)\n",
    "test_loader = data.DataLoader(mnist_test, batch_size=test_batch_size, shuffle=False)\n"
   ]
  },
  {
   "cell_type": "code",
   "execution_count": 3,
   "metadata": {},
   "outputs": [
    {
     "name": "stdout",
     "output_type": "stream",
     "text": [
      "Network Structure: [784, 64, 10]\n",
      "\tAll: [0.9115, 0.9313, 0.9442, 0.9552, 0.9615, 0.9688, 0.9703, 0.9718, 0.973, 0.9744, 0.974, 0.9753, 0.9762, 0.9767, 0.9767]\n",
      "\tFinal:  0.9767\n",
      "Network Structure: [784, 128, 10]\n",
      "\tAll: [0.9069, 0.9314, 0.9444, 0.9556, 0.9646, 0.9657, 0.9695, 0.972, 0.9738, 0.9741, 0.9738, 0.975, 0.9756, 0.9738, 0.9754]\n",
      "\tFinal:  0.9756\n",
      "Network Structure: [784, 256, 10]\n",
      "\tAll: [0.9074, 0.9295, 0.9423, 0.9571, 0.9607, 0.9664, 0.9696, 0.9706, 0.9736, 0.9743, 0.9734, 0.9736, 0.9734, 0.9758, 0.9744]\n",
      "\tFinal:  0.9758\n",
      "Network Structure: [784, 512, 10]\n",
      "\tAll: [0.907, 0.9298, 0.9451, 0.9539, 0.9628, 0.9637, 0.9686, 0.9707, 0.9708, 0.9718, 0.9725, 0.9738, 0.9735, 0.9737, 0.9731]\n",
      "\tFinal:  0.9738\n"
     ]
    }
   ],
   "source": [
    "for n_hidden in [64, 128, 256, 512]:\n",
    "    print(f'Network Structure: [784, {n_hidden}, 10]')\n",
    "\n",
    "    class Model(nn.Module):\n",
    "        def __init__(self) -> None:\n",
    "            super().__init__()\n",
    "            self.fc1 = nn.Linear(784, 256)\n",
    "            self.relu = nn.ReLU()\n",
    "            self.fc2 = nn.Linear(256, 10)\n",
    "\n",
    "        def forward(self, x):\n",
    "            out = self.fc1(x)\n",
    "            out = self.relu(out)\n",
    "            out = self.fc2(out)\n",
    "            return out\n",
    "\n",
    "    model = Model()\n",
    "    criterion = nn.CrossEntropyLoss()\n",
    "    optimizer = optim.Adam(model.parameters(), lr=1e-4)\n",
    "    max_epochs = 15\n",
    "\n",
    "    test_accuracies = []\n",
    "\n",
    "    for epoch in range(max_epochs):\n",
    "        # Training\n",
    "        for ii, (data, target) in enumerate(train_loader):\n",
    "            batch_size = data.shape[0]\n",
    "            if batch_size != train_batch_size:\n",
    "                continue\n",
    "\n",
    "            data = latte.Tensor(data.reshape(batch_size, -1))\n",
    "            target = latte.Tensor(target)\n",
    "\n",
    "            # Forward pass\n",
    "            optimizer.zero_grad()\n",
    "            output = model(data)\n",
    "\n",
    "            # Compute loss\n",
    "            loss = criterion(output, target)\n",
    "\n",
    "            # Backward pass\n",
    "            loss.backward()\n",
    "            optimizer.step()\n",
    "\n",
    "        # Test\n",
    "        correct = 0\n",
    "        total = 0\n",
    "        for data, target in test_loader:\n",
    "            batch_size = data.shape[0]\n",
    "            if batch_size != test_batch_size:\n",
    "                continue\n",
    "\n",
    "            data = latte.Tensor(data.reshape(batch_size, -1))\n",
    "            target = latte.Tensor(target)\n",
    "\n",
    "            output = model(data)\n",
    "            correct += (output.data.argmax(axis=1) == target.data).sum()\n",
    "            total += target.shape[0]\n",
    "\n",
    "        accuracy = correct / total\n",
    "        test_accuracies.append(np.round(accuracy, 4))\n",
    "\n",
    "    print(f'\\tAll: {test_accuracies}')\n",
    "    print(f'\\tFinal: {np.max(test_accuracies): .4f}')\n"
   ]
  },
  {
   "cell_type": "code",
   "execution_count": 6,
   "metadata": {},
   "outputs": [
    {
     "name": "stdout",
     "output_type": "stream",
     "text": [
      "\tAll: [0.5279, 0.8723, 0.9109, 0.9306, 0.9438, 0.9527, 0.9586, 0.9661, 0.965, 0.967, 0.9698, 0.9719, 0.9733, 0.9734, 0.9741]\n",
      "\tFinal:  0.9741\n"
     ]
    }
   ],
   "source": [
    "class Model(nn.Module):\n",
    "    def __init__(self) -> None:\n",
    "        super().__init__()\n",
    "        self.fc1 = nn.Linear(784, 256)\n",
    "        self.relu1 = nn.ReLU()\n",
    "        self.fc2 = nn.Linear(256, 64)\n",
    "        self.relu2 = nn.ReLU()\n",
    "        self.fc3 = nn.Linear(64, 10)\n",
    "\n",
    "    def forward(self, x):\n",
    "        out = self.fc1(x)\n",
    "        out = self.relu1(out)\n",
    "        out = self.fc2(out)\n",
    "        out = self.relu2(out)\n",
    "        out = self.fc3(out)\n",
    "        return out\n",
    "\n",
    "\n",
    "model = Model()\n",
    "criterion = nn.CrossEntropyLoss()\n",
    "optimizer = optim.Adam(model.parameters(), lr=1e-4)\n",
    "max_epochs = 15\n",
    "\n",
    "test_accuracies = []\n",
    "\n",
    "for epoch in range(max_epochs):\n",
    "    # Training\n",
    "    for ii, (data, target) in enumerate(train_loader):\n",
    "        batch_size = data.shape[0]\n",
    "        if batch_size != train_batch_size:\n",
    "            continue\n",
    "\n",
    "        data = latte.Tensor(data.reshape(batch_size, -1))\n",
    "        target = latte.Tensor(target)\n",
    "\n",
    "        # Forward pass\n",
    "        optimizer.zero_grad()\n",
    "        output = model(data)\n",
    "\n",
    "        # Compute loss\n",
    "        loss = criterion(output, target)\n",
    "\n",
    "        # Backward pass\n",
    "        loss.backward()\n",
    "        optimizer.step()\n",
    "\n",
    "    # Test\n",
    "    correct = 0\n",
    "    total = 0\n",
    "    for data, target in test_loader:\n",
    "        batch_size = data.shape[0]\n",
    "        if batch_size != test_batch_size:\n",
    "            continue\n",
    "\n",
    "        data = latte.Tensor(data.reshape(batch_size, -1))\n",
    "        target = latte.Tensor(target)\n",
    "\n",
    "        output = model(data)\n",
    "        correct += (output.data.argmax(axis=1) == target.data).sum()\n",
    "        total += target.shape[0]\n",
    "\n",
    "    accuracy = correct / total\n",
    "    test_accuracies.append(np.round(accuracy, 4))\n",
    "\n",
    "print(f'\\tAll: {test_accuracies}')\n",
    "print(f'\\tFinal: {np.max(test_accuracies): .4f}')\n"
   ]
  }
 ],
 "metadata": {
  "interpreter": {
   "hash": "ccf995d8b870276722dd6e2fa80f28154abbcc0374bb26bbdca4cb3aff668d1d"
  },
  "kernelspec": {
   "display_name": "Python 3.8.12 ('lightning')",
   "language": "python",
   "name": "python3"
  },
  "language_info": {
   "codemirror_mode": {
    "name": "ipython",
    "version": 3
   },
   "file_extension": ".py",
   "mimetype": "text/x-python",
   "name": "python",
   "nbconvert_exporter": "python",
   "pygments_lexer": "ipython3",
   "version": "3.8.12"
  },
  "orig_nbformat": 4
 },
 "nbformat": 4,
 "nbformat_minor": 2
}
