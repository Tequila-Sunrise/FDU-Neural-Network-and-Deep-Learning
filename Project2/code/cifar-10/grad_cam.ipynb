{
 "cells": [
  {
   "cell_type": "markdown",
   "metadata": {},
   "source": [
    "<h1 align = \"center\">Grad Class Activation Map</h1>"
   ]
  },
  {
   "cell_type": "code",
   "execution_count": 1,
   "metadata": {},
   "outputs": [],
   "source": [
    "import warnings\n",
    "\n",
    "warnings.filterwarnings('ignore')\n",
    "warnings.simplefilter('ignore')\n",
    "import numpy as np\n",
    "import torch\n",
    "import torch.nn as nn\n",
    "import torch.backends.cudnn as cudnn\n",
    "import torchvision\n",
    "import torchvision.transforms as T\n",
    "from gradcam import GradCAM, GradCAMpp\n",
    "from gradcam.utils import visualize_cam\n",
    "from matplotlib import pyplot as plt\n",
    "\n",
    "import models\n"
   ]
  },
  {
   "cell_type": "code",
   "execution_count": 2,
   "metadata": {},
   "outputs": [],
   "source": [
    "device = 'cuda' if torch.cuda.is_available() else 'cpu'\n"
   ]
  },
  {
   "cell_type": "code",
   "execution_count": 3,
   "metadata": {},
   "outputs": [
    {
     "name": "stdout",
     "output_type": "stream",
     "text": [
      "Files already downloaded and verified\n"
     ]
    }
   ],
   "source": [
    "transform_test = T.Compose(\n",
    "    [T.ToTensor(), T.Normalize((0.4914, 0.4822, 0.4465), (0.2470, 0.2435, 0.2616))]\n",
    ")\n",
    "test_set = torchvision.datasets.CIFAR10(\n",
    "    root='./data', train=False, download=True, transform=transform_test\n",
    ")\n",
    "test_batch_size = 256\n",
    "test_loader = torch.utils.data.DataLoader(\n",
    "    test_set, batch_size=test_batch_size, shuffle=False, num_workers=2\n",
    ")\n"
   ]
  },
  {
   "cell_type": "code",
   "execution_count": 4,
   "metadata": {},
   "outputs": [],
   "source": [
    "net = models.ResNet18()\n",
    "if device == 'cuda':\n",
    "    net = nn.DataParallel(net)\n",
    "    cudnn.benchmark = True\n",
    "checkpoint = torch.load('./checkpoints/checkpoint_resnet18.pth')\n",
    "net.load_state_dict(checkpoint[\"net\"])\n",
    "net = net.module\n"
   ]
  },
  {
   "cell_type": "code",
   "execution_count": 5,
   "metadata": {},
   "outputs": [],
   "source": [
    "def grad_cam(img, model, layer):\n",
    "    configs = [dict(model_type='resnet', arch=model, layer_name=layer)]\n",
    "\n",
    "    for config in configs:\n",
    "        config['arch'].to(device).eval()\n",
    "\n",
    "    torch_img = T.Compose([T.ToTensor()])(img).to(device)\n",
    "    normed_torch_img = T.Normalize([0.485, 0.456, 0.406], [0.229, 0.224, 0.225])(\n",
    "        torch_img\n",
    "    )[None]\n",
    "\n",
    "    cams = [\n",
    "        [cls.from_config(**config) for cls in (GradCAM, GradCAMpp)]\n",
    "        for config in configs\n",
    "    ]\n",
    "\n",
    "    images = []\n",
    "    for gradcam, gradcam_pp in cams:\n",
    "        mask, _ = gradcam(normed_torch_img)\n",
    "        heatmap, result = visualize_cam(mask, torch_img)\n",
    "\n",
    "        mask_pp, _ = gradcam_pp(normed_torch_img)\n",
    "        heatmap_pp, result_pp = visualize_cam(mask_pp, torch_img)\n",
    "\n",
    "        images.extend([torch_img.cpu(), heatmap, heatmap_pp, result, result_pp])\n",
    "\n",
    "    return images\n"
   ]
  },
  {
   "cell_type": "code",
   "execution_count": 6,
   "metadata": {},
   "outputs": [],
   "source": [
    "classes = (\n",
    "    'plane',\n",
    "    'car',\n",
    "    'bird',\n",
    "    'cat',\n",
    "    'deer',\n",
    "    'dog',\n",
    "    'frog',\n",
    "    'horse',\n",
    "    'ship',\n",
    "    'truck',\n",
    ")\n"
   ]
  },
  {
   "cell_type": "code",
   "execution_count": 7,
   "metadata": {},
   "outputs": [
    {
     "data": {
      "text/plain": [
       "(-0.5, 31.5, 31.5, -0.5)"
      ]
     },
     "execution_count": 7,
     "metadata": {},
     "output_type": "execute_result"
    },
    {
     "data": {
      "image/png": "[encoded data removed]",
      "text/plain": [
       "<Figure size 720x432 with 2 Axes>"
      ]
     },
     "metadata": {
      "needs_background": "light"
     },
     "output_type": "display_data"
    }
   ],
   "source": [
    "idx = 16\n",
    "img = test_set.data[idx]\n",
    "label = test_set[idx][1]\n",
    "layer = 'layer4'\n",
    "\n",
    "cam = grad_cam(img, net, layer)\n",
    "cam = torch.stack(cam)[4]\n",
    "cam = np.transpose(cam, (1, 2, 0))\n",
    "\n",
    "plt.figure(figsize=(10, 6))\n",
    "plt.subplot(1, 2, 1)\n",
    "plt.imshow(img)\n",
    "plt.title(f'{classes[label]}')\n",
    "plt.axis('off')\n",
    "plt.subplot(1, 2, 2)\n",
    "plt.imshow(cam)\n",
    "plt.title(f'Grad-CAM')\n",
    "plt.axis('off')\n"
   ]
  }
 ],
 "metadata": {
  "interpreter": {
   "hash": "b3ba2566441a7c06988d0923437866b63cedc61552a5af99d1f4fb67d367b25f"
  },
  "kernelspec": {
   "display_name": "Python 3.9.7 ('base')",
   "language": "python",
   "name": "python3"
  },
  "language_info": {
   "codemirror_mode": {
    "name": "ipython",
    "version": 3
   },
   "file_extension": ".py",
   "mimetype": "text/x-python",
   "name": "python",
   "nbconvert_exporter": "python",
   "pygments_lexer": "ipython3",
   "version": "3.9.7"
  },
  "orig_nbformat": 4
 },
 "nbformat": 4,
 "nbformat_minor": 2
}
